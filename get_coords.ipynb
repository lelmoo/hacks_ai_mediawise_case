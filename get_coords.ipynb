{
  "nbformat": 4,
  "nbformat_minor": 0,
  "metadata": {
    "colab": {
      "provenance": []
    },
    "kernelspec": {
      "name": "python3",
      "display_name": "Python 3"
    },
    "language_info": {
      "name": "python"
    }
  },
  "cells": [
    {
      "cell_type": "code",
      "execution_count": 1,
      "metadata": {
        "id": "tUaU26OOvonA",
        "colab": {
          "base_uri": "https://localhost:8080/"
        },
        "outputId": "44a0fc1e-18fe-4c40-b7d5-785c3dc5f9da"
      },
      "outputs": [
        {
          "output_type": "stream",
          "name": "stdout",
          "text": [
            "Mounted at /content/gdrive/\n"
          ]
        }
      ],
      "source": [
        "from google.colab import drive\n",
        "drive.mount('/content/gdrive/')"
      ]
    },
    {
      "cell_type": "code",
      "source": [
        "!pip install geopandas shapely -q"
      ],
      "metadata": {
        "id": "cXf40cMiykvp"
      },
      "execution_count": 3,
      "outputs": []
    },
    {
      "cell_type": "code",
      "source": [
        "import pandas as pd\n",
        "from matplotlib import pyplot as plt\n",
        "import numpy as np\n",
        "import matplotlib.patheffects as path_effects\n",
        "import geopandas as gpd\n",
        "from shapely.geometry import Point, Polygon\n",
        "from tqdm import tqdm, trange\n",
        "import json"
      ],
      "metadata": {
        "id": "V-_LQsZrv1Hw"
      },
      "execution_count": 10,
      "outputs": []
    },
    {
      "cell_type": "code",
      "source": [
        "!unzip '/content/gdrive/MyDrive/data/train_dataset_train_data_Mediawise.zip'"
      ],
      "metadata": {
        "id": "-xpS_F5tvzAf",
        "colab": {
          "base_uri": "https://localhost:8080/"
        },
        "outputId": "4a28cdd2-a176-4efd-d969-d855317ac5e5"
      },
      "execution_count": 2,
      "outputs": [
        {
          "output_type": "stream",
          "name": "stdout",
          "text": [
            "Archive:  /content/gdrive/MyDrive/data/train_dataset_train_data_Mediawise.zip\n",
            "   creating: train_data_Mediawise/\n",
            "  inflating: train_data_Mediawise/readme.md  \n",
            "  inflating: __MACOSX/train_data_Mediawise/._readme.md  \n",
            "  inflating: train_data_Mediawise/baseline.ipynb  \n",
            "  inflating: __MACOSX/train_data_Mediawise/._baseline.ipynb  \n",
            "  inflating: train_data_Mediawise/train_data.json  \n"
          ]
        }
      ]
    },
    {
      "cell_type": "markdown",
      "source": [
        "## Предобработка данных и создание нового датасета с обновленными полигонами"
      ],
      "metadata": {
        "id": "Di703TysLQkO"
      }
    },
    {
      "cell_type": "code",
      "source": [
        "df=pd.read_json('/content/train_data_Mediawise/train_data.json')\n",
        "df=pd.concat([df,pd.json_normalize(df['targetAudience'])], axis=1)\n",
        "df=df.drop(['targetAudience','id'], axis=1)"
      ],
      "metadata": {
        "id": "tczhlV_kyKrQ"
      },
      "execution_count": 45,
      "outputs": []
    },
    {
      "cell_type": "code",
      "source": [
        "def rename_name(row):\n",
        "    gender = ''\n",
        "    age_from = row['ageFrom']\n",
        "    age_to = row['ageTo']\n",
        "    income = row['income'].upper()\n",
        "\n",
        "    if row['gender'] == 'all':\n",
        "        gender = 'All'\n",
        "    else:\n",
        "        gender = row['gender'][0].upper()\n",
        "\n",
        "    if gender == 'All' and age_from == 18 and age_to == 100 and income == 'ABC':\n",
        "        return f'All 18+'\n",
        "    elif age_to == 100:\n",
        "        return f'{gender} {age_from}+ {income}'\n",
        "    else:\n",
        "        return f'{gender} {age_from}-{age_to} {income}'\n",
        "\n",
        "df['name'] = df.apply(rename_name, axis=1)"
      ],
      "metadata": {
        "id": "F3aWBVJS6Hjy"
      },
      "execution_count": 46,
      "outputs": []
    },
    {
      "cell_type": "code",
      "source": [
        "def get_direction(angle):\n",
        "    directions = ['N', 'NE', 'E', 'SE', 'S', 'SW', 'W', 'NW', 'N']\n",
        "    direction_index = round(angle / 45) % 8\n",
        "    return directions[direction_index]"
      ],
      "metadata": {
        "id": "YEkkHxleycJm"
      },
      "execution_count": 47,
      "outputs": []
    },
    {
      "cell_type": "code",
      "source": [
        "latitudes = []\n",
        "longitudes = []\n",
        "direction = []\n",
        "names = []\n",
        "values = []\n",
        "\n",
        "for idx, row in df.iterrows():\n",
        "    for point in row['points']:\n",
        "        latitudes.append(point['lat'])\n",
        "        longitudes.append(point['lon'])\n",
        "        direction.append(get_direction(point['azimuth']))\n",
        "        names.append(row['name'])\n",
        "        values.append(row['value']/len(row['points']))\n",
        "\n",
        "\n",
        "new_data = {\n",
        "    'latitude': latitudes,\n",
        "    'longitude': longitudes,\n",
        "    'direction': direction,\n",
        "    'name': names,\n",
        "    'value': values\n",
        "}\n",
        "\n",
        "points_data = pd.DataFrame(new_data)\n",
        "points_data.drop_duplicates(inplace=True)"
      ],
      "metadata": {
        "id": "gian5ZlYydjZ"
      },
      "execution_count": 48,
      "outputs": []
    },
    {
      "cell_type": "code",
      "source": [
        "tqdm.pandas()\n",
        "\n",
        "\n",
        "districts = gpd.read_file('/content/gdrive/MyDrive/data/moscow.geojson')\n",
        "\n",
        "def find_polygon_name(point, gdf):\n",
        "    for idx, row in gdf.iterrows():\n",
        "        if point.within(row['geometry']):\n",
        "            return row['district']\n",
        "    return 'Other'\n",
        "\n",
        "points_data['polygon_name'] = points_data.progress_apply(\n",
        "    lambda row: find_polygon_name(Point(row['longitude'], row['latitude']), districts), axis=1)"
      ],
      "metadata": {
        "colab": {
          "base_uri": "https://localhost:8080/"
        },
        "id": "X7Y9RMYh2OHI",
        "outputId": "7074374a-3685-48ab-b349-a3db118cdfa8"
      },
      "execution_count": 49,
      "outputs": [
        {
          "output_type": "stream",
          "name": "stderr",
          "text": [
            "100%|██████████| 128425/128425 [18:56<00:00, 113.00it/s]\n"
          ]
        }
      ]
    },
    {
      "cell_type": "code",
      "source": [
        "points_data.to_csv('points_data.csv', index=False)"
      ],
      "metadata": {
        "id": "RP6CR5MQDJH0"
      },
      "execution_count": 54,
      "outputs": []
    },
    {
      "cell_type": "code",
      "source": [
        "# Функция для получения локаций по целевой аудитории и количеству сторон\n",
        "def get_points(file_path):\n",
        "    with open(file_path, 'r') as file:\n",
        "        json_data = json.load(file)\n",
        "\n",
        "    df = pd.DataFrame([{**json_data['targetAudience'], 'sides': json_data['sides']}])\n",
        "    df['name'] = df.apply(rename_name, axis=1)\n",
        "    df.drop(['gender', 'ageFrom', 'ageTo', 'income'], axis=1, inplace=True)\n",
        "    df = df.reset_index(drop=True)\n",
        "\n",
        "    points = pd.read_csv('/content/points_data.csv')\n",
        "    out = points[points['name'].isin(df['name'])].nlargest(df['sides'][0], 'value')\n",
        "    return out.to_json(orient='records', force_ascii=False)"
      ],
      "metadata": {
        "id": "iid5l-EC3Gg_"
      },
      "execution_count": 105,
      "outputs": []
    },
    {
      "cell_type": "code",
      "source": [
        "get_points('/content/mock_audience.json')"
      ],
      "metadata": {
        "colab": {
          "base_uri": "https://localhost:8080/",
          "height": 122
        },
        "id": "1GN5t8Xs1OqN",
        "outputId": "96f10294-b970-4a56-bce5-d009a389ca78"
      },
      "execution_count": 108,
      "outputs": [
        {
          "output_type": "execute_result",
          "data": {
            "text/plain": [
              "'[{\"latitude\":55.734433213,\"longitude\":37.5432100312,\"direction\":\"NW\",\"name\":\"All 25-45 BC\",\"value\":1.9233333333,\"polygon_name\":\"район Дорогомилово\"},{\"latitude\":55.7927771897,\"longitude\":37.6292563608,\"direction\":\"E\",\"name\":\"All 25-45 BC\",\"value\":1.9233333333,\"polygon_name\":\"район Марьина роща\"},{\"latitude\":55.7034408068,\"longitude\":37.6572551042,\"direction\":\"W\",\"name\":\"All 25-45 BC\",\"value\":1.9233333333,\"polygon_name\":\"район Даниловский\"},{\"latitude\":55.7719047705,\"longitude\":37.5437883998,\"direction\":\"SW\",\"name\":\"All 25-45 BC\",\"value\":1.9233333333,\"polygon_name\":\"район Пресненский\"}]'"
            ],
            "application/vnd.google.colaboratory.intrinsic+json": {
              "type": "string"
            }
          },
          "metadata": {},
          "execution_count": 108
        }
      ]
    }
  ]
}